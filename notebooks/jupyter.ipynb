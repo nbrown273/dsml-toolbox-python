{
 "cells": [
  {
   "cell_type": "markdown",
   "metadata": {},
   "source": [
    "# Jupyter Lab\n",
    "\n",
    "Jupyter lab is the next gen web UI for Jupyter Notebooks. It provides a highly flexible, integrated, and extensible environment for developing solutions. It's most notable features include:\n",
    "\n",
    "* **Jupyter Notebook**: an interactive document combining live, executable code with descriptive text and several forms of rich media\n",
    "* **Shared Kernels**: the execution engine and environment behind each notebook can be shared with separate python consoles\n",
    "* **Data Exploration**: multiple file formats are supported out of the box with enhanced viewers including csv, json, html, latex, images (svg, png, etc.), markdown, pdf, vega, mp3, and others.\n",
    "\n",
    "We'll explore a little of each of these areas, then give you a chance to test out what you saw. The last area will be observed throughout this project, but not given special attention in this notebook specifically."
   ]
  },
  {
   "cell_type": "markdown",
   "metadata": {},
   "source": [
    "## Jupyter Notebook\n",
    "Notebooks are the primary product of projects developed with Jupyter. They enable code to be developed side by side with rich documentation. In order to understand the basics of development in a notebook, you will need to understand *cells* and *kernels*."
   ]
  },
  {
   "cell_type": "markdown",
   "metadata": {},
   "source": [
    "Cells are the basic unit of the notebook. They come as one of three types: code, markdown, and raw. Raw is primarily used by extensions to ensure the notebook does not process it's contents. It will not be covered here."
   ]
  },
  {
   "cell_type": "markdown",
   "metadata": {},
   "source": [
    "### Markdown Cells\n",
    "These cells form the backbone of documentation within a notebook. Most of the standard markdown commands apply. \n",
    "\n",
    "**EXERCISE:** Try it out now be creating a new markdown cell below this with at least one piece of special formatting."
   ]
  },
  {
   "cell_type": "markdown",
   "metadata": {},
   "source": [
    "### Code Cells\n",
    "\n",
    "These cells specify everything that runs dynamically in a notebook. A couple examples are below. You can run them by hitting Shift+Enter, pressing the play button at the top of the window, or using the options available in the Run menu."
   ]
  },
  {
   "cell_type": "code",
   "execution_count": 2,
   "metadata": {},
   "outputs": [],
   "source": [
    "%matplotlib ipympl\n",
    "from matplotlib import pyplot as plt\n",
    "import numpy as np"
   ]
  },
  {
   "cell_type": "code",
   "execution_count": 3,
   "metadata": {},
   "outputs": [
    {
     "data": {
      "application/vnd.jupyter.widget-view+json": {
       "model_id": "56d5462f17644cc691cbeefebbc63d52",
       "version_major": 2,
       "version_minor": 0
      },
      "text/plain": [
       "FigureCanvasNbAgg()"
      ]
     },
     "metadata": {},
     "output_type": "display_data"
    },
    {
     "data": {
      "text/plain": [
       "[<matplotlib.lines.Line2D at 0x24caaabc080>]"
      ]
     },
     "execution_count": 3,
     "metadata": {},
     "output_type": "execute_result"
    }
   ],
   "source": [
    "x = np.linspace(0,10,100)\n",
    "plt.figure()\n",
    "plt.plot(x, np.sin(x), '--', linewidth=2)"
   ]
  },
  {
   "cell_type": "markdown",
   "metadata": {},
   "source": [
    "Note: the output above will be interactive if the ipympl extension is installed. If you do not have it installed, you can still generate the plot by using matplotlib *inline* mode instead."
   ]
  },
  {
   "cell_type": "markdown",
   "metadata": {},
   "source": [
    "**EXERCISE:** Try modifying the code cell above to use inline mode instead. What happens if you repeatedly run the cell in either mode? What if the call to figure is removed?"
   ]
  },
  {
   "cell_type": "markdown",
   "metadata": {},
   "source": [
    "### The Kernel\n",
    "The kernel holds the current environment of a notebook and is responsible for executing each code cell. It can be stopped using the stop button at the top of the notebook window, or the options in the Kernal menu. \n",
    "\n",
    "**EXERCISE:** Try running the following cell and stopping the kernel mid execution"
   ]
  },
  {
   "cell_type": "code",
   "execution_count": 4,
   "metadata": {},
   "outputs": [
    {
     "name": "stdout",
     "output_type": "stream",
     "text": [
      "Tick\n",
      "Tick\n",
      "Tick\n",
      "Tick\n",
      "Boom!\n"
     ]
    }
   ],
   "source": [
    "import time\n",
    "for _ in range(4):\n",
    "    print(\"Tick\")\n",
    "    time.sleep(1)\n",
    "print(\"Boom!\")"
   ]
  },
  {
   "cell_type": "markdown",
   "metadata": {},
   "source": [
    "Since the kernel is also in charge of the current environment's state, resetting the kernel will cause the modifications from all previous cells to be forgotten. \n",
    "\n",
    "**EXERCISE:** First, run the following two cells. Then, run them again, but reset the kernel inbetween. What happens? Finally, to bring the old state back rerun the entire notebook using the Run menu."
   ]
  },
  {
   "cell_type": "code",
   "execution_count": 5,
   "metadata": {},
   "outputs": [],
   "source": [
    "forget_me = \"always\""
   ]
  },
  {
   "cell_type": "code",
   "execution_count": 6,
   "metadata": {},
   "outputs": [
    {
     "name": "stdout",
     "output_type": "stream",
     "text": [
      "forget_me = always\n"
     ]
    }
   ],
   "source": [
    "print(f\"forget_me = {forget_me}\")"
   ]
  },
  {
   "cell_type": "markdown",
   "metadata": {},
   "source": [
    "### OS Commands and Magics\n",
    "\n",
    "One of the truly wonderful integrations available to notebook approaches to development is the ease of adding interactions with the underlying operating system and custom commands. Jupyter Notebooks IPython kernel covers this through the bang (!) and magics (% and %%) commands. You've already encountered one example of the magics command above. Below you'll find a couple examples of each."
   ]
  },
  {
   "cell_type": "markdown",
   "metadata": {},
   "source": [
    "The bang operator allows you to run operating system commands and optionally capture their output as python variables."
   ]
  },
  {
   "cell_type": "code",
   "execution_count": 23,
   "metadata": {},
   "outputs": [
    {
     "name": "stdout",
     "output_type": "stream",
     "text": [
      "['jupyter.ipynb', 'matplotlib.ipynb', 'numpy.ipynb', 'pandas.ipynb', 'scikit-learn.ipynb', 'scipy.ipynb']\n"
     ]
    }
   ],
   "source": [
    "files = !ls\n",
    "print(files)"
   ]
  },
  {
   "cell_type": "markdown",
   "metadata": {},
   "source": [
    "The line % and cell %% magics define a set of commands not used by the Python interpretter, but understandable to the IPython kernel. The kernel comes with several built in magics. They can also be custom defined by extensions."
   ]
  },
  {
   "cell_type": "code",
   "execution_count": 24,
   "metadata": {},
   "outputs": [
    {
     "name": "stdout",
     "output_type": "stream",
     "text": [
      "41 µs ± 8.87 µs per loop (mean ± std. dev. of 7 runs, 10000 loops each)\n",
      "6.69 ms ± 365 µs per loop (mean ± std. dev. of 7 runs, 100 loops each)\n"
     ]
    }
   ],
   "source": [
    "%timeit np.linalg.eigvals(np.random.rand(10,10))\n",
    "%timeit np.linalg.eigvals(np.random.rand(100,100))"
   ]
  },
  {
   "cell_type": "code",
   "execution_count": 25,
   "metadata": {},
   "outputs": [
    {
     "name": "stdout",
     "output_type": "stream",
     "text": [
      "3.08 ms ± 204 µs per loop (mean ± std. dev. of 7 runs, 100 loops each)\n"
     ]
    }
   ],
   "source": [
    "%%timeit\n",
    "A = np.random.rand(100,100)\n",
    "B = np.random.rand(100,1)\n",
    "np.linalg.lstsq(A,B,rcond=None)"
   ]
  },
  {
   "cell_type": "markdown",
   "metadata": {},
   "source": [
    "**EXERCISE:** Lookup and apply the %%writefile magic to create a python file out of one of the above cells. Then run that file using the %run magic."
   ]
  },
  {
   "cell_type": "markdown",
   "metadata": {},
   "source": [
    "## Sharing Kernels\n",
    "\n",
    "Jupyter labs allows the kernel being used by one window to be picked up by another. This is particularly useful when you want to do exploratory work rapidly in a console, while starting from the state of your current notebook. "
   ]
  },
  {
   "cell_type": "code",
   "execution_count": 29,
   "metadata": {},
   "outputs": [],
   "source": [
    "x,y,z = (2, 4, 16)"
   ]
  },
  {
   "cell_type": "markdown",
   "metadata": {},
   "source": [
    "**EXERCISE:** open a new console window and assign it the kernel of the current notebook. Then run the following line to show that the current notebook's state is still defined: \n",
    "```python\n",
    "assert x**y == z\n",
    "```"
   ]
  },
  {
   "cell_type": "markdown",
   "metadata": {},
   "source": [
    "# CHALLENGES\n",
    "\n",
    "1. Install and import the sympy algebraic manipulation package by only using commands in this notebook.\n",
    "2. Compute and print the values of n factorial (n!) for n=1 up to n=1000."
   ]
  },
  {
   "cell_type": "code",
   "execution_count": null,
   "metadata": {},
   "outputs": [],
   "source": []
  }
 ],
 "metadata": {
  "kernelspec": {
   "display_name": "Python 3",
   "language": "python",
   "name": "python3"
  },
  "language_info": {
   "codemirror_mode": {
    "name": "ipython",
    "version": 3
   },
   "file_extension": ".py",
   "mimetype": "text/x-python",
   "name": "python",
   "nbconvert_exporter": "python",
   "pygments_lexer": "ipython3",
   "version": "3.7.3"
  }
 },
 "nbformat": 4,
 "nbformat_minor": 2
}
