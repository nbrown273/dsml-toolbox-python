{
 "cells": [
  {
   "cell_type": "markdown",
   "metadata": {},
   "source": [
    "# Examining the MNIST Handwritten Digit Dataset\n",
    "\n",
    "For this project we're going to examine the MNIST image dataset containing grayscale images of handwritten digits. To load the dataset we'll get a sneak peak of scikit-learn's `datasets` module, a helpful utility for loading popular educational training sets. "
   ]
  },
  {
   "cell_type": "code",
   "execution_count": 5,
   "metadata": {},
   "outputs": [
    {
     "name": "stdout",
     "output_type": "stream",
     "text": [
      "dict_keys(['data', 'target', 'target_names', 'images', 'DESCR'])\n"
     ]
    }
   ],
   "source": [
    "from sklearn import datasets\n",
    "digits = datasets.load_digits()\n",
    "print(digits.keys())"
   ]
  },
  {
   "cell_type": "markdown",
   "metadata": {},
   "source": [
    "The output of the load_digits function is a dictionary containing several useful numpy arrays. Specifically, `target` is the classification of each image and `images` is a 2D array containing a flattened image in each row. Since this project focuses on pandas and matplotlib, you will not be training a machine learning model yet. Instead, you will do the prepwork for such a model. This includes:\n",
    "1. Creating a pandas dataframe.\n",
    "2. Gathering image properties (number of images, dimensions, channels)\n",
    "3. Gathering sample statistics (count of examples for each digit, statistical distribution of average pixel intensity, etc.)\n",
    "4. Plotting image samples. If time permits, combine the first 20 samples into one figure\n",
    "\n",
    "The methods you use are up to you; there are likely several ways to complete each request. As you complete them, please compare your methods to those around you."
   ]
  }
 ],
 "metadata": {
  "kernelspec": {
   "display_name": "Python 3",
   "language": "python",
   "name": "python3"
  },
  "language_info": {
   "codemirror_mode": {
    "name": "ipython",
    "version": 3
   },
   "file_extension": ".py",
   "mimetype": "text/x-python",
   "name": "python",
   "nbconvert_exporter": "python",
   "pygments_lexer": "ipython3",
   "version": "3.7.3"
  }
 },
 "nbformat": 4,
 "nbformat_minor": 4
}
