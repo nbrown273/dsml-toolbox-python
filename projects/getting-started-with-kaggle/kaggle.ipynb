{
 "cells": [
  {
   "cell_type": "markdown",
   "metadata": {},
   "source": [
    "# Kaggle Competitions\n",
    "\n",
    "Not that you've finished the tutorials, you should be ready to dive into a complete data science project from beginning to end. One of the best resources for finding projects to practice with is Kaggle. Not only are the dataset collections freely available and growing daily, your will often find pointers from the community at all levels of the learning curve. For the rest of this workshop, we'll use the competitions available at Kaggle as our final project.\n",
    "\n",
    "There are three competitions that are highly recommended for getting started with Kaggle. One of which, digit recognition, we've already taken a look at. The other two are available for our final projects.\n",
    "\n",
    "* [The Titanic](https://www.kaggle.com/c/titanic):\n",
    "* [Housing Prices](https://www.kaggle.com/c/house-prices-advanced-regression-techniques)"
   ]
  }
 ],
 "metadata": {
  "kernelspec": {
   "display_name": "Python 3",
   "language": "python",
   "name": "python3"
  },
  "language_info": {
   "codemirror_mode": {
    "name": "ipython",
    "version": 3
   },
   "file_extension": ".py",
   "mimetype": "text/x-python",
   "name": "python",
   "nbconvert_exporter": "python",
   "pygments_lexer": "ipython3",
   "version": "3.7.3"
  }
 },
 "nbformat": 4,
 "nbformat_minor": 4
}
