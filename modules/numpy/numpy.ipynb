{
 "cells": [
  {
   "cell_type": "markdown",
   "metadata": {},
   "source": [
    "# Numpy\n",
    "\n",
    "This notebook focuses on the numpy library, which is used to perform multi-dimensional matrix operations efficiently. It is an underpinning to a lot of higher level libraries (tensor flow, scikit learn, and pandas to name a few). It can be useful to understand the basics, so that when one of these higher level libraries doesn't do exactly what you want, you can work with the underlying numpy array instead."
   ]
  },
  {
   "cell_type": "code",
   "execution_count": null,
   "metadata": {},
   "outputs": [],
   "source": [
    "%logstart\n",
    "import numpy as np\n",
    "from IPython.display import Audio\n",
    "from matplotlib import pyplot as plt"
   ]
  },
  {
   "cell_type": "markdown",
   "metadata": {},
   "source": [
    "\n",
    "To whet your appetite, take a look at the following example which combines numpy with the Audio rich content display. The first cell demonstrates the creation of beats from interference. The second cell shows how intermittent noise can effect the audio quality.\n",
    "\n",
    "**EXERCISE:** Adjust the frequencies, sampling rate, duration, and amplitude until you're satisfied. Do you understand the effect of each variable on the sound? How about the underlying array representing the audio signal?"
   ]
  },
  {
   "cell_type": "code",
   "execution_count": null,
   "metadata": {},
   "outputs": [],
   "source": [
    "from IPython.display import Audio\n",
    "\n",
    "f1 = 220.0\n",
    "f2 = 222.0\n",
    "sampling_rate = 8000\n",
    "duration = 3\n",
    "amplitude = 1\n",
    "\n",
    "times = np.linspace(0, duration, duration*sampling_rate)\n",
    "tone = lambda f : amplitude * np.sin(2 * np.pi * f * times)\n",
    "signal = 0.5 * (tone(f1) + tone(f2))\n",
    "plt.plot(times[:100], signal[:100], 'k.')\n",
    "plt.figure()\n",
    "plt.plot(times[::50], signal[::50], 'b-')\n",
    "Audio(data=signal, rate=sampling_rate)"
   ]
  },
  {
   "cell_type": "code",
   "execution_count": null,
   "metadata": {},
   "outputs": [],
   "source": [
    "mask = np.random.choice([True, False], size=len(times))\n",
    "noise = np.random.randn(sum(mask)) * amplitude * 0.5\n",
    "signal = 0.5 * (tone(f1) + tone(f2))\n",
    "signal[mask] += noise\n",
    "plt.plot(times[:100], signal[:100], 'k*')\n",
    "plt.figure()\n",
    "plt.plot(times[::50], signal[::50], 'b-')\n",
    "Audio(data=signal, rate=sampling_rate)"
   ]
  },
  {
   "cell_type": "markdown",
   "metadata": {},
   "source": [
    "Let's focus on three features of numpy that these examples partially illustrate. \n",
    "There are many other features of numpy, but these three form the core utilities.\n",
    "1. Creating arrays\n",
    "2. Indexing, Slicing, and Filtering\n",
    "3. Vectorized Operations"
   ]
  },
  {
   "cell_type": "code",
   "execution_count": null,
   "metadata": {},
   "outputs": [],
   "source": [
    "show = lambda title, arr : print(f'{title}\\n-------------\\nShape: {arr.shape}\\nContent:\\n{arr}\\n')"
   ]
  },
  {
   "cell_type": "markdown",
   "metadata": {},
   "source": [
    "## Creating arrays\n",
    "\n",
    "There are three primary ways to create numpy arrays: literals, built in functions, and reading files."
   ]
  },
  {
   "cell_type": "code",
   "execution_count": null,
   "metadata": {},
   "outputs": [],
   "source": [
    "show('Literal 1', np.array([1,9,-1,4]))\n",
    "show('Literal 2', np.array([[1,0], [0,-1]]))"
   ]
  },
  {
   "cell_type": "code",
   "execution_count": null,
   "metadata": {},
   "outputs": [],
   "source": [
    "show('Builtin 1', np.arange(-1, 1, 0.1))\n",
    "show('Builtin 2', np.logspace(0, 9, 10, base=2))\n",
    "x, y = np.mgrid[0:5, 0:5]\n",
    "show('Builtin 3 X', x)\n",
    "show('Builtin 3 Y', y)"
   ]
  },
  {
   "cell_type": "code",
   "execution_count": null,
   "metadata": {},
   "outputs": [],
   "source": [
    "data = np.genfromtxt('beats.csv', delimiter = \",\")\n",
    "x = data[:,0]\n",
    "y = data[:,1]\n",
    "_ = plt.plot(x, y, 'r.')"
   ]
  },
  {
   "cell_type": "markdown",
   "metadata": {},
   "source": [
    "**EXERCISE:** Can you spot the three built in numpy functions that were used to construct the arrays in the audio examples at the beginning of this notebook?"
   ]
  },
  {
   "cell_type": "markdown",
   "metadata": {},
   "source": [
    "## Indexing, Slicing, and Masks\n",
    "\n",
    "Once an array is created, one of the next most common steps is selecting or updating elements of the array. This can be done simply with the usual syntax for indexing and slicing lists in python. But there's also several forms of fancier slicing."
   ]
  },
  {
   "cell_type": "code",
   "execution_count": null,
   "metadata": {},
   "outputs": [],
   "source": [
    "np.random.seed(0)\n",
    "playground = np.random.randn(3,3,3)\n",
    "show('Playground', playground)"
   ]
  },
  {
   "cell_type": "code",
   "execution_count": null,
   "metadata": {},
   "outputs": [],
   "source": [
    "show('Selection 1', playground[0,1,-1])\n",
    "show('Selection 2', playground[[0,-1]])\n",
    "show('Slicing 1', playground[:,:,-1])\n",
    "show('Slicing 2', playground[::-1,1,2])"
   ]
  },
  {
   "cell_type": "markdown",
   "metadata": {},
   "source": [
    "Aside from indexing and slicing (including fancy slicing), masks are a very useful way to select elements based on one or more conditions."
   ]
  },
  {
   "cell_type": "code",
   "execution_count": null,
   "metadata": {},
   "outputs": [],
   "source": [
    "positive_sigma_mask = (playground > 0) * (playground < 1)\n",
    "show('Mask', positive_sigma_mask)\n",
    "show('Playground', playground)\n",
    "show('Cells Within (0,1)', playground[positive_sigma_mask])"
   ]
  },
  {
   "cell_type": "markdown",
   "metadata": {},
   "source": [
    "Masks also also useful for updating select elements, while leaving others alone."
   ]
  },
  {
   "cell_type": "code",
   "execution_count": null,
   "metadata": {},
   "outputs": [],
   "source": [
    "playground[positive_sigma_mask] = 0\n",
    "show('Remaining Playground', playground)"
   ]
  },
  {
   "cell_type": "markdown",
   "metadata": {},
   "source": [
    "**EXERCISES:** \n",
    "1. Can you grab the first *block*, all of the first rows, and all of the first columns as three separate slicing operations on playground? \n",
    "2. What is the effect of the mask used in the noisy audio signal example?"
   ]
  },
  {
   "cell_type": "markdown",
   "metadata": {},
   "source": [
    "## Vector Operations\n",
    "\n",
    "One of the major performance advantages of numpy over standard lists is that most operations are vectorized over the elements of the list. For example, elementwise multiplication can be sped up several orders of magnitude for a large array.  "
   ]
  },
  {
   "cell_type": "code",
   "execution_count": null,
   "metadata": {},
   "outputs": [],
   "source": [
    "x_np = np.random.randn(1000)\n",
    "x_list = [x for x in x_np]\n",
    "%timeit [x*x for x in x_list]\n",
    "%timeit x_np * x_np"
   ]
  },
  {
   "cell_type": "markdown",
   "metadata": {},
   "source": [
    "This kind of speedup is essential for working with big data or complex algorithms where basic operations may be performed trillions of times in one run of the program. However, it can come with a significant learning curve for those unaccustomed to thinking in a vectorized fashion. We will start with the basic operations."
   ]
  },
  {
   "cell_type": "code",
   "execution_count": null,
   "metadata": {},
   "outputs": [],
   "source": [
    "x = np.array([1, 2, 3])\n",
    "A = np.array([[1, 0, 1], \n",
    "              [0, 1, 0]])\n",
    "c = 5\n",
    "\n",
    "show('x + c', x + c)\n",
    "show('A - c', A - c)\n",
    "show('A + x', A + x)"
   ]
  },
  {
   "cell_type": "code",
   "execution_count": null,
   "metadata": {},
   "outputs": [],
   "source": [
    "show('x * c', x * c)\n",
    "show('x * x', x * x)\n",
    "show('x / x', x / x)\n",
    "show('A * x', A * x)"
   ]
  },
  {
   "cell_type": "markdown",
   "metadata": {},
   "source": [
    "Notice that, by default, all of the arithmetic operations are applied elementwise (with broadcasting). What if you want to apply matrix operations? There are a couple options:"
   ]
  },
  {
   "cell_type": "code",
   "execution_count": null,
   "metadata": {},
   "outputs": [],
   "source": [
    "show('Builtin with Arrays', A.dot(x))\n",
    "show('Operator with Arrays', A @ x)\n",
    "show('Operator with Matricies', np.matrix(A) * np.matrix(x).T)"
   ]
  },
  {
   "cell_type": "markdown",
   "metadata": {},
   "source": [
    "**EXERCISE:** How can the last line be rewritten to produce a row vector, instead of a column vector?"
   ]
  },
  {
   "cell_type": "markdown",
   "metadata": {},
   "source": [
    "# CHALLENGE:\n",
    "1. Write a function to compute the inverse of a 2x2 array. You may use the `det` function for computing determinants. You cannot use the builtin `inv` function to compute your answers, but you may check your answers using it. The formula for an inverse of a 2x2 matrix is:\n",
    "$$\n",
    "A^{-1} =\n",
    "\\begin{pmatrix}\n",
    "a & b \\\\\n",
    "c & d \\\\\n",
    "\\end{pmatrix} ^ {-1}\n",
    " = \\frac{1}{\\det(A)}\n",
    "\\begin{pmatrix}\n",
    "d & -b \\\\\n",
    "-c & a \\\\\n",
    "\\end{pmatrix}\n",
    "$$"
   ]
  }
 ],
 "metadata": {
  "kernelspec": {
   "display_name": "Python 3",
   "language": "python",
   "name": "python3"
  },
  "language_info": {
   "codemirror_mode": {
    "name": "ipython",
    "version": 3
   },
   "file_extension": ".py",
   "mimetype": "text/x-python",
   "name": "python",
   "nbconvert_exporter": "python",
   "pygments_lexer": "ipython3",
   "version": "3.7.3"
  }
 },
 "nbformat": 4,
 "nbformat_minor": 4
}
