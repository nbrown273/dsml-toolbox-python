{
 "cells": [
  {
   "cell_type": "markdown",
   "metadata": {},
   "source": [
    "# Edge Detection in Noise\n",
    "\n",
    "The project has been given a foundation below. Most of the imports you will require are already made, but it's up to you to use the [documentation](https://docs.scipy.org/doc/scipy/reference/index.html) for the scipy methods and underlying algorithms to figure out how to solve your challenge. Your goals are:\n",
    "\n",
    "1. Clearly detect the cat boundary\n",
    "2. Clearly detect the rock boundaries in the foreground\n",
    "3. Bonus: Identify the boundary of the clouds"
   ]
  },
  {
   "cell_type": "code",
   "execution_count": 2,
   "metadata": {},
   "outputs": [],
   "source": [
    "import numpy as np\n",
    "import matplotlib.pyplot as plt\n",
    "from matplotlib import image\n",
    "from scipy.ndimage import sobel, prewitt, laplace"
   ]
  },
  {
   "cell_type": "code",
   "execution_count": null,
   "metadata": {},
   "outputs": [],
   "source": []
  }
 ],
 "metadata": {
  "kernelspec": {
   "display_name": "Python 3",
   "language": "python",
   "name": "python3"
  },
  "language_info": {
   "codemirror_mode": {
    "name": "ipython",
    "version": 3
   },
   "file_extension": ".py",
   "mimetype": "text/x-python",
   "name": "python",
   "nbconvert_exporter": "python",
   "pygments_lexer": "ipython3",
   "version": "3.7.3"
  }
 },
 "nbformat": 4,
 "nbformat_minor": 4
}
