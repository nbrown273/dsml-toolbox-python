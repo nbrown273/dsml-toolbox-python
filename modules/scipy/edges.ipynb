{
 "cells": [
  {
   "cell_type": "markdown",
   "metadata": {},
   "source": [
    "# Edge Detection in Noise\n",
    "\n",
    "The project has been given a foundation below. Most of the imports you will require are already made, but it's up to you to use the [documentation](https://docs.scipy.org/doc/scipy/reference/index.html) for the scipy methods and underlying algorithms to figure out how to solve your challenge. Your goals are:\n",
    "\n",
    "1. Detect the boundary of each cat on a grayscale image\n",
    "2. Show the original image in grayscale, your detected images, and any intermediate image states in a single figure."
   ]
  },
  {
   "cell_type": "code",
   "execution_count": 40,
   "metadata": {},
   "outputs": [],
   "source": [
    "%logstart\n",
    "import numpy as np\n",
    "import matplotlib.pyplot as plt\n",
    "from matplotlib import image\n",
    "from scipy.ndimage import sobel, prewitt, laplace, gaussian_filter # not all of these are edge detectors"
   ]
  }
 ],
 "metadata": {
  "kernelspec": {
   "display_name": "Python 3",
   "language": "python",
   "name": "python3"
  },
  "language_info": {
   "codemirror_mode": {
    "name": "ipython",
    "version": 3
   },
   "file_extension": ".py",
   "mimetype": "text/x-python",
   "name": "python",
   "nbconvert_exporter": "python",
   "pygments_lexer": "ipython3",
   "version": "3.7.3"
  }
 },
 "nbformat": 4,
 "nbformat_minor": 4
}
