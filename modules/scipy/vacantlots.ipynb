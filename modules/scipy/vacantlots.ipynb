{
 "cells": [
  {
   "cell_type": "markdown",
   "metadata": {},
   "source": [
    "# The Value of Vacant Lots\n",
    "\n",
    "The project has been given a foundation below. Most of the imports you will require are already made, but it's up to you to use the [documentation](https://docs.scipy.org/doc/scipy/reference/index.html) for the scipy methods and underlying algorithms to figure out how to solve your challenge. There is documentation of the dataset available at the Vacancy Portal [homepage](https://www.stlvacancy.com/portal.html) as well. Your goals are:\n",
    "\n",
    "1. Use interpolation to create a function that returns the estimated assessed value for any vacant parcel in St. Louis. \n",
    "2. Create a 2D contour plot of the interpolated function.\n",
    "\n",
    "*Note:* Geospatial techniques would be better suited; however, I've avoided using them here in order to keep the focus on interpolation. If you finish early or have a background in geo spatial, feel free to bring in other packages or explore the second interpolation method imported below."
   ]
  },
  {
   "cell_type": "code",
   "execution_count": 18,
   "metadata": {},
   "outputs": [],
   "source": [
    "%logstart\n",
    "import numpy as np\n",
    "import pandas as pd\n",
    "import matplotlib.pyplot as plt #look into the contour, and contourf functions\n",
    "from scipy.interpolate import griddata "
   ]
  }
 ],
 "metadata": {
  "kernelspec": {
   "display_name": "Python 3",
   "language": "python",
   "name": "python3"
  },
  "language_info": {
   "codemirror_mode": {
    "name": "ipython",
    "version": 3
   },
   "file_extension": ".py",
   "mimetype": "text/x-python",
   "name": "python",
   "nbconvert_exporter": "python",
   "pygments_lexer": "ipython3",
   "version": "3.7.3"
  }
 },
 "nbformat": 4,
 "nbformat_minor": 4
}
