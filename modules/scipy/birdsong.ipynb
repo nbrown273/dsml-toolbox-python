{
 "cells": [
  {
   "cell_type": "markdown",
   "metadata": {},
   "source": [
    "# Processing Bird Song\n",
    "\n",
    "The project has been given a foundation below. Most of the imports you will require are already made, but it's up to you to use the [documentation](https://docs.scipy.org/doc/scipy/reference/index.html) for the scipy methods and underlying algorithms to figure out how to solve your challenge. Your goals are:\n",
    "\n",
    "1. Create a spectrogram of the bird song.\n",
    "2. Use Fourier transforms to create a modified form of the bird song:\n",
    "    * Adjust the overall pitch lower or higher\n",
    "    * Bonus: Emphasize the dominant pitch "
   ]
  },
  {
   "cell_type": "code",
   "execution_count": 7,
   "metadata": {},
   "outputs": [],
   "source": [
    "import numpy as np\n",
    "import matplotlib.pyplot as plt\n",
    "from scipy.io import wavfile\n",
    "from scipy.signal import spectrogram\n",
    "from scipy.fftpack import fft,ifft"
   ]
  },
  {
   "cell_type": "code",
   "execution_count": null,
   "metadata": {},
   "outputs": [],
   "source": []
  }
 ],
 "metadata": {
  "kernelspec": {
   "display_name": "Python 3",
   "language": "python",
   "name": "python3"
  },
  "language_info": {
   "codemirror_mode": {
    "name": "ipython",
    "version": 3
   },
   "file_extension": ".py",
   "mimetype": "text/x-python",
   "name": "python",
   "nbconvert_exporter": "python",
   "pygments_lexer": "ipython3",
   "version": "3.7.3"
  }
 },
 "nbformat": 4,
 "nbformat_minor": 4
}
