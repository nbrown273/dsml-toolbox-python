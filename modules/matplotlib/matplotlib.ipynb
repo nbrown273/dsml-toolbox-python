{
 "cells": [
  {
   "cell_type": "markdown",
   "metadata": {},
   "source": [
    "# Matplotlib\n",
    "\n",
    "Matplotlib is a object oriented plotting framework that gives developers full control over the plotting region including axes, legends, markers, labels, annotations, and more. The framework also has several convenient alternatives for quickly producing plots when exploration is the focus over production quality. Most of these quick alternatives have been scattered through the previous notebooks. Here, we focus on the object oriented approach through three sets of examples. \n",
    "\n",
    "Almost every common use case of the OOP framework approaches with the same pattern:\n",
    "1. Setup figure and axes\n",
    "2. Specify plot type and options\n",
    "3. Annotate the plot\n",
    "4. (Optional) Repeat steps 2 and 3 for each sub plot\n",
    "Furthermore, most of the differences are due to plot types and/or options specified in step 2. As a result it's very easy to pick up the basics from a couple examples; the rest comes from building experience and knowledge of the numerous options available for each type of plot. These examples are designed to give you a good head start."
   ]
  },
  {
   "cell_type": "code",
   "execution_count": 2,
   "metadata": {},
   "outputs": [],
   "source": [
    "%matplotlib ipympl\n",
    "import numpy as np\n",
    "from matplotlib import pyplot as plt"
   ]
  },
  {
   "cell_type": "code",
   "execution_count": 6,
   "metadata": {},
   "outputs": [
    {
     "data": {
      "application/vnd.jupyter.widget-view+json": {
       "model_id": "867e074424d044a3a5a6e78b643e54e5",
       "version_major": 2,
       "version_minor": 0
      },
      "text/plain": [
       "FigureCanvasNbAgg()"
      ]
     },
     "metadata": {},
     "output_type": "display_data"
    }
   ],
   "source": [
    "x = np.linspace(0, 5, 10)\n",
    "x2 = np.linspace(-0.75, 1., 100)\n",
    "n = np.array([0,1,2,3,4,5])\n",
    "\n",
    "fig, axes = plt.subplots(1, 4, figsize=(12,3))\n",
    "\n",
    "axes[0].scatter(x2, x2 + 0.25*np.random.randn(len(x2)))\n",
    "axes[0].set_title(\"scatter\")\n",
    "\n",
    "axes[1].step(n, n**2, lw=2)\n",
    "axes[1].set_title(\"step\")\n",
    "\n",
    "axes[2].bar(n, n**2, align=\"center\", width=0.5, alpha=0.5)\n",
    "axes[2].set_title(\"bar\")\n",
    "\n",
    "axes[3].fill_between(x, x**2, x**3, color=\"green\", alpha=0.5);\n",
    "axes[3].set_title(\"fill_between\");"
   ]
  },
  {
   "cell_type": "code",
   "execution_count": 11,
   "metadata": {},
   "outputs": [
    {
     "data": {
      "application/vnd.jupyter.widget-view+json": {
       "model_id": "5cdf5db4a6094b9ba1d393cd28a24ca1",
       "version_major": 2,
       "version_minor": 0
      },
      "text/plain": [
       "FigureCanvasNbAgg()"
      ]
     },
     "metadata": {},
     "output_type": "display_data"
    }
   ],
   "source": [
    "n = np.random.randn(100000)\n",
    "fig, axes = plt.subplots(1, 2, figsize=(12,4))\n",
    "\n",
    "axes[0].hist(n, density=True)\n",
    "axes[0].set_title(\"PDF\")\n",
    "axes[0].set_xlim((min(n), max(n)))\n",
    "\n",
    "axes[1].hist(n, cumulative=True, density=True, bins=50)\n",
    "axes[1].set_title(\"CDF\")\n",
    "axes[1].set_xlim((min(n), max(n)));"
   ]
  },
  {
   "cell_type": "code",
   "execution_count": 21,
   "metadata": {},
   "outputs": [
    {
     "data": {
      "application/vnd.jupyter.widget-view+json": {
       "model_id": "51f22d3e991c473aa479509f9b416f7f",
       "version_major": 2,
       "version_minor": 0
      },
      "text/plain": [
       "FigureCanvasNbAgg()"
      ]
     },
     "metadata": {},
     "output_type": "display_data"
    }
   ],
   "source": [
    "from mpl_toolkits.mplot3d.axes3d import Axes3D\n",
    "\n",
    "phi = np.linspace(0, 2*np.pi, 100)\n",
    "X, Y = np.meshgrid(phi, phi)\n",
    "Z = 2 + 0.7 - 2 * np.cos(Y) * np.cos(X) - 0.7 * np.cos(np.pi - 2*Y)\n",
    "\n",
    "fig = plt.figure(figsize=(14,6))\n",
    "ax = fig.add_subplot(1, 1, 1, projection='3d')\n",
    "p = ax.plot_surface(X, Y, Z, rstride=4, cstride=4, linewidth=0)"
   ]
  },
  {
   "cell_type": "markdown",
   "metadata": {},
   "source": [
    "After experimenting with some of the above options, it's time to put the past three modules together into one final challenge.\n",
    "\n",
    "# COURSE 1 CHALLENGE\n",
    "The normal distribution is given by:\n",
    "$$z = \\frac{1}{\\sqrt{2\\pi}} \\exp{\\left[-\\frac{(x^2 + y^2)}{2}\\right]}$$\n",
    "\n",
    "1. Create the x, y, and z arrays for a two dimensional normal distribution with standard mean and standard deviation. \n",
    "2. Create a source of random gaussian noise called err with **non** standard mean and standard deviation. DO NOT TELL anyone else what your choice was for the mean and standard deviation.\n",
    "3. Add the error and true gaussian z coordinate to create an adjusted z coordinate, z2.\n",
    "3. Save the x, y, z2 arrays to a single csv.\n",
    "4. Exchange your csv with someone else, without revealing the mean and standard deviation of your error source.\n",
    "5. Load their csv into your notebook using numpy\n",
    "6. Use matplotlib to show the contents of your partner's csv\n",
    "7. Visually inspect the graph to determine your partner's approximate error source mean and standard deviation\n",
    "8. Subtract away the standard normal distribution to reveal the error source.\n",
    "9. Plot just the error source to confirm your guess at step 7."
   ]
  },
  {
   "cell_type": "code",
   "execution_count": null,
   "metadata": {},
   "outputs": [],
   "source": []
  }
 ],
 "metadata": {
  "kernelspec": {
   "display_name": "Python 3",
   "language": "python",
   "name": "python3"
  },
  "language_info": {
   "codemirror_mode": {
    "name": "ipython",
    "version": 3
   },
   "file_extension": ".py",
   "mimetype": "text/x-python",
   "name": "python",
   "nbconvert_exporter": "python",
   "pygments_lexer": "ipython3",
   "version": "3.7.3"
  }
 },
 "nbformat": 4,
 "nbformat_minor": 2
}
