{
 "cells": [
  {
   "cell_type": "markdown",
   "metadata": {},
   "source": [
    "# Matplotlib\n",
    "\n",
    "Matplotlib is a object oriented plotting framework that gives developers full control over the plotting region including axes, legends, markers, labels, annotations, and more. The framework also has several convenient alternatives for quickly producing plots when exploration is the focus over production quality. Most of these quick alternatives have been scattered through the previous notebooks. Here, we focus on the object oriented approach through three sets of examples. \n",
    "\n",
    "Almost every common use case of the OOP framework approaches with the same pattern:\n",
    "1. Setup figure and axes\n",
    "2. Specify plot type and options\n",
    "3. Annotate the plot\n",
    "4. (Optional) Repeat steps 2 and 3 for each sub plot\n",
    "\n",
    "Furthermore, most of the differences are due to plot types and/or options specified in step 2. As a result it's very easy to pick up the basics from a couple examples; the rest comes from building experience and knowledge of the numerous options available for each type of plot. (These examples are borrowed from matplotlibs official docs)"
   ]
  },
  {
   "cell_type": "code",
   "execution_count": null,
   "metadata": {},
   "outputs": [],
   "source": [
    "import numpy as np\n",
    "from matplotlib import pyplot as plt"
   ]
  },
  {
   "cell_type": "code",
   "execution_count": null,
   "metadata": {},
   "outputs": [],
   "source": [
    "# Data for plotting\n",
    "t = np.arange(0.0, 2.0, 0.01)\n",
    "s = 1 + np.sin(2 * np.pi * t)\n",
    "\n",
    "fig, ax = plt.subplots()\n",
    "ax.plot(t, s)\n",
    "\n",
    "ax.set(xlabel='time (s)', ylabel='voltage (mV)',\n",
    "       title='About as simple as it gets, folks')\n",
    "ax.grid()"
   ]
  },
  {
   "cell_type": "code",
   "execution_count": null,
   "metadata": {},
   "outputs": [],
   "source": [
    "x = np.linspace(0, 5, 10)\n",
    "x2 = np.linspace(-0.75, 1., 100)\n",
    "n = np.array([0,1,2,3,4,5])\n",
    "\n",
    "fig, axes = plt.subplots(1, 4, figsize=(12,3))\n",
    "\n",
    "axes[0].scatter(x2, x2 + 0.25*np.random.randn(len(x2)))\n",
    "axes[0].set_title(\"scatter\")\n",
    "\n",
    "axes[1].step(n, n**2, lw=2)\n",
    "axes[1].set_title(\"step\")\n",
    "\n",
    "axes[2].bar(n, n**2, align=\"center\", width=0.5, alpha=0.5)\n",
    "axes[2].set_title(\"bar\")\n",
    "\n",
    "axes[3].fill_between(x, x**2, x**3, color=\"green\", alpha=0.5);\n",
    "axes[3].set_title(\"fill_between\");"
   ]
  },
  {
   "cell_type": "code",
   "execution_count": null,
   "metadata": {},
   "outputs": [],
   "source": [
    "n = np.random.randn(100000)\n",
    "fig, axes = plt.subplots(1, 2, figsize=(12,4))\n",
    "\n",
    "axes[0].hist(n, density=True)\n",
    "axes[0].set_title(\"PDF\")\n",
    "axes[0].set_xlim((min(n), max(n)))\n",
    "\n",
    "axes[1].hist(n, cumulative=True, density=True, bins=50)\n",
    "axes[1].set_title(\"CDF\")\n",
    "axes[1].set_xlim((min(n), max(n)));"
   ]
  },
  {
   "cell_type": "code",
   "execution_count": null,
   "metadata": {},
   "outputs": [],
   "source": [
    "from mpl_toolkits.mplot3d.axes3d import Axes3D\n",
    "\n",
    "phi = np.linspace(0, 2*np.pi, 100)\n",
    "X, Y = np.meshgrid(phi, phi)\n",
    "Z = 2 + 0.7 - 2 * np.cos(Y) * np.cos(X) - 0.7 * np.cos(np.pi - 2*Y)\n",
    "\n",
    "fig = plt.figure(figsize=(14,6))\n",
    "ax = fig.add_subplot(1, 1, 1, projection='3d')\n",
    "p = ax.plot_surface(X, Y, Z, rstride=4, cstride=4, linewidth=0)"
   ]
  },
  {
   "cell_type": "markdown",
   "metadata": {},
   "source": [
    "After a little experimentation, it's worth reviewing the major components. The picture below shows most of the artists you have control over in a matplotlib figure.\n",
    "\n",
    "![title](./matplotlib_anatomy.webp)\n",
    "\n",
    "All objects that render to a plot are called artists. The major artists consist of a figure, containing 1 or more axes, which contain 2 (or 3) axis objects. Each of these can contain additional special artists such as titles, legends, and labels."
   ]
  },
  {
   "cell_type": "markdown",
   "metadata": {},
   "source": [
    "Now that you've seen a few examples and reviewed the major components, let's practice. The cell below has prepopulated the dataset for you. Can you create a polar plot of the radius as a function of theta? Try looking for a Matlab style solution first (check out the `polar` function), then try with the object-oriented pyplot style. Once you have the initial plot, try adding gridlines and decreasing the number of radial ticks."
   ]
  },
  {
   "cell_type": "code",
   "execution_count": null,
   "metadata": {},
   "outputs": [],
   "source": [
    "theta = 2 * np.pi * r # the independent coordinate\n",
    "radius = np.arange(0, 2, 0.01) # the 'dependent' coordinate\n",
    "\n",
    "# replace these lines\n",
    "plt.plot(theta, radius)\n",
    "plt.xlabel(r'$\\theta$')\n",
    "plt.ylabel(r'$r(\\theta)$')\n",
    "plt.title('A non-polar plot of polar variables')"
   ]
  },
  {
   "cell_type": "markdown",
   "metadata": {},
   "source": [
    "Next, use the above dataset to create a figure with three subplots. One will be the polar plot made before. The other two will be the x and y coordinates as functions of $\\theta$. The additional coordinates have been precreated for you. Note: Since the projection of one axes is different then the rest, you will likely need to create the figure and axes separately."
   ]
  },
  {
   "cell_type": "code",
   "execution_count": null,
   "metadata": {},
   "outputs": [],
   "source": [
    "x = radius * np.cos(theta)\n",
    "y = radius * np.sin(theta)\n",
    "\n",
    "# generate your figure, axes, plots, and annotations here"
   ]
  },
  {
   "cell_type": "code",
   "execution_count": null,
   "metadata": {},
   "outputs": [],
   "source": []
  }
 ],
 "metadata": {
  "kernelspec": {
   "display_name": "Python 3",
   "language": "python",
   "name": "python3"
  },
  "language_info": {
   "codemirror_mode": {
    "name": "ipython",
    "version": 3
   },
   "file_extension": ".py",
   "mimetype": "text/x-python",
   "name": "python",
   "nbconvert_exporter": "python",
   "pygments_lexer": "ipython3",
   "version": "3.7.3"
  }
 },
 "nbformat": 4,
 "nbformat_minor": 4
}
